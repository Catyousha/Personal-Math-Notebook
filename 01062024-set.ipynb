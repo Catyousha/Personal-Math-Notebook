{
 "cells": [
  {
   "cell_type": "markdown",
   "metadata": {},
   "source": [
    "# $\\verb|Set|$"
   ]
  },
  {
   "cell_type": "markdown",
   "metadata": {},
   "source": [
    "## $\\verb|Distributive Law|$\n",
    "\n",
    "$$\\begin{align}\n",
    "A \\cap (B \\cup C) = (A \\cap B) \\cup (A \\cap C)\\\\\n",
    "A \\cup (B \\cap C) = (A \\cup B) \\cap (A \\cup C)\n",
    "\\end{align}$$"
   ]
  },
  {
   "cell_type": "code",
   "execution_count": 7,
   "metadata": {},
   "outputs": [
    {
     "name": "stdout",
     "output_type": "stream",
     "text": [
      "(AuB) ∩ (AuC): {1, 2, 3, 4}\n",
      "A u (B∩C): {1, 2, 3, 4}\n",
      "(AuB) ∩ (AuC) == A u (B∩C): True\n"
     ]
    }
   ],
   "source": [
    "A = {1, 2}\n",
    "B = {2, 3, 4}\n",
    "C = {3, 4, 5, 6}\n",
    "\n",
    "i = (A | B) & (A | C)\n",
    "ii = A | (B & C)\n",
    "print(\"(AuB) ∩ (AuC):\", i)\n",
    "print(\"A u (B∩C):\", ii)\n",
    "print(\"(AuB) ∩ (AuC) == A u (B∩C):\", i == ii)"
   ]
  },
  {
   "cell_type": "markdown",
   "metadata": {},
   "source": [
    "## $\\verb|DeMorgan's Law|$\n",
    "\n",
    "$$\\begin{align}\n",
    "(A \\cap B)^c = A^c \\cup B^c\\\\\n",
    "(A \\cup B)^c = A^c \\cap B^c\\\\\n",
    "\\end{align}$$"
   ]
  },
  {
   "cell_type": "code",
   "execution_count": 16,
   "metadata": {},
   "outputs": [
    {
     "name": "stdout",
     "output_type": "stream",
     "text": [
      "AuB: {1, 2, 3, 4}\n",
      "(AuB)c: {5, 6, 7, 8, 9, 10}\n",
      "---\n",
      "Ac: {3, 4, 5, 6, 7, 8, 9, 10}\n",
      "Bc: {1, 5, 6, 7, 8, 9, 10}\n",
      "Ac ∩ Bc: {5, 6, 7, 8, 9, 10}\n",
      "---\n",
      "(AuB)c == Ac ∩ Bc: True\n"
     ]
    }
   ],
   "source": [
    "S = {1, 2, 3, 4, 5, 6, 7, 8, 9, 10}\n",
    "A = {1, 2}\n",
    "B = {2, 3, 4}\n",
    "\n",
    "Ac = S - A\n",
    "Bc = S - B\n",
    "\n",
    "i = S - (A | B)\n",
    "ii = Ac & Bc\n",
    "\n",
    "print(\"AuB:\", (A | B))\n",
    "print(\"(AuB)c:\", i)\n",
    "print(\"---\")\n",
    "print(\"Ac:\", Ac)\n",
    "print(\"Bc:\", Bc)\n",
    "print(\"Ac ∩ Bc:\", ii)\n",
    "print(\"---\")\n",
    "print(\"(AuB)c == Ac ∩ Bc:\", i == ii)"
   ]
  },
  {
   "cell_type": "markdown",
   "metadata": {},
   "source": [
    "## $\\verb|Union and Intersection of Sets|$\n",
    "\n",
    "$$\\begin{align}\n",
    "\\cup_{i=1}^\\infty = \\{ x: x \\in A_i, \\verb| for SOME | i = 1, 2, ... n\\}\\\\\n",
    "\\cap_{i=1}^\\infty = \\{ x: x \\in A_i, \\verb| for ALL | i = 1, 2, ... n\\}\n",
    "\\end{align}$$"
   ]
  },
  {
   "cell_type": "code",
   "execution_count": 56,
   "metadata": {},
   "outputs": [
    {
     "name": "stdout",
     "output_type": "stream",
     "text": [
      "A1: {1}\n",
      "A2: {1, 3}\n",
      "A3: {1, 3, 5}\n",
      "A4: {1, 3, 5, 7}\n",
      "A5: {1, 3, 5, 7, 9}\n",
      "\n",
      "S: [{1}, {1, 3}, {1, 3, 5}, {1, 3, 5, 7}, {1, 3, 5, 7, 9}]\n",
      "---\n",
      "Union: {1, 3, 5, 7, 9}\n",
      "3 is in SOME of [{1}, {1, 3}, {1, 3, 5}, {1, 3, 5, 7}, {1, 3, 5, 7, 9}]\n",
      "---\n",
      "Intersect: {1}\n",
      "1 is in ALL of [{1}, {1, 3}, {1, 3, 5}, {1, 3, 5, 7}, {1, 3, 5, 7, 9}]\n"
     ]
    }
   ],
   "source": [
    "from functools import reduce\n",
    "\n",
    "S = []\n",
    "for n in range(1, 6):\n",
    "    An = {2*n- 1 for n in range(1, n+1)}\n",
    "    S.append(An)\n",
    "    print(f\"A{n}:\", An)\n",
    "    \n",
    "SUnion = reduce(lambda x, y: x|y, S)\n",
    "SIntersect = reduce(lambda x, y: x&y, S)\n",
    "\n",
    "print(\"\\nS:\", S)\n",
    "print(\"---\")\n",
    "print(\"Union:\", SUnion)\n",
    "print(list(SUnion)[1],\"is in SOME of\", S)\n",
    "print(\"---\")\n",
    "print(\"Intersect:\", SIntersect)\n",
    "print(list(SIntersect)[0],\"is in ALL of\", S)\n"
   ]
  }
 ],
 "metadata": {
  "kernelspec": {
   "display_name": "Python 3",
   "language": "python",
   "name": "python3"
  },
  "language_info": {
   "codemirror_mode": {
    "name": "ipython",
    "version": 3
   },
   "file_extension": ".py",
   "mimetype": "text/x-python",
   "name": "python",
   "nbconvert_exporter": "python",
   "pygments_lexer": "ipython3",
   "version": "3.11.7"
  }
 },
 "nbformat": 4,
 "nbformat_minor": 2
}
